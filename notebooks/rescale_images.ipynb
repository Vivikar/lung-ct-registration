{
 "cells": [
  {
   "cell_type": "code",
   "execution_count": 6,
   "metadata": {},
   "outputs": [],
   "source": [
    "import os\n",
    "import numpy as np\n",
    "import nibabel as nib\n",
    "# from synthmoprh.voxelmorph.torch.networks import VxmDense\n",
    "from nibabel.processing import conform\n",
    "import torch\n",
    "from scipy.ndimage import center_of_mass\n",
    "\n",
    "import SimpleITK as sitk\n",
    "from pathlib import Path\n",
    "from tqdm import tqdm\n",
    "from scipy import ndimage\n",
    "import pandas as pd\n",
    "\n",
    "import sys\n",
    "sys.path.append('/home/vzalevskyi/uni/MAIA_Semester_3/mira/final_project/maia-mira/synthmorph')\n",
    "sys.path.append('/home/vzalevskyi/uni/MAIA_Semester_3/mira/final_project/maia-mira')\n",
    "from utils import parse_points_reg, compute_TRE\n",
    "\n",
    "from preprocess_data import register_image\n",
    "import torch \n",
    "import tensorflow as tf\n",
    "import nibabel as nib\n",
    "import numpy as np\n",
    "\n",
    "from utils import print_img_info\n",
    "\n",
    "from voxelmorph.tf.utils import point_spatial_transformer\n",
    "\n",
    "# Load preprocessed data (scaled between 0 and 1 and with the moving data in the space of the fixed one)\n",
    "# fixed = nib.load(\"processed_data/copd_scans/scans/case_001_insp.nii.gz\")\n",
    "\n",
    "# moving = nib.load(\"processed_data/copd_scans/scans/case_001_exp.nii.gz\")"
   ]
  },
  {
   "cell_type": "code",
   "execution_count": 2,
   "metadata": {},
   "outputs": [],
   "source": [
    "# fixed_mask = nib.load(\"processed_data/copd_scans/lungMasks/case_001_insp.nii.gz\").get_fdata()\n",
    "\n",
    "# moving_mask = nib.load(\"processed_data/copd_scans/lungMasks/case_001_exp.nii.gz\").get_fdata()"
   ]
  },
  {
   "cell_type": "code",
   "execution_count": 15,
   "metadata": {},
   "outputs": [],
   "source": [
    "cx, cy, cz = center_of_mass(fixed_mask)"
   ]
  },
  {
   "cell_type": "code",
   "execution_count": 17,
   "metadata": {},
   "outputs": [
    {
     "data": {
      "text/plain": [
       "[(57, 450), (106, 441), (0, 117)]"
      ]
     },
     "execution_count": 17,
     "metadata": {},
     "output_type": "execute_result"
    }
   ],
   "source": [
    "idxs = [(x.min(), x.max()) for x in np.where(fixed_mask !=0)]\n",
    "idxs"
   ]
  },
  {
   "cell_type": "code",
   "execution_count": 3,
   "metadata": {},
   "outputs": [
    {
     "name": "stdout",
     "output_type": "stream",
     "text": [
      "<class 'nibabel.nifti1.Nifti1Header'> object, endian='<'\n",
      "sizeof_hdr      : 348\n",
      "data_type       : b''\n",
      "db_name         : b''\n",
      "extents         : 0\n",
      "session_error   : 0\n",
      "regular         : b'r'\n",
      "dim_info        : 0\n",
      "dim             : [  3 512 512 121   1   1   1   1]\n",
      "intent_p1       : 0.0\n",
      "intent_p2       : 0.0\n",
      "intent_p3       : 0.0\n",
      "intent_code     : none\n",
      "datatype        : float64\n",
      "bitpix          : 64\n",
      "slice_start     : 0\n",
      "pixdim          : [-1.    0.63  0.63  2.5   0.    0.    0.    0.  ]\n",
      "vox_offset      : 0.0\n",
      "scl_slope       : nan\n",
      "scl_inter       : nan\n",
      "slice_end       : 0\n",
      "slice_code      : unknown\n",
      "xyzt_units      : 2\n",
      "cal_max         : 0.0\n",
      "cal_min         : 0.0\n",
      "slice_duration  : 0.0\n",
      "toffset         : 0.0\n",
      "glmax           : 0\n",
      "glmin           : 0\n",
      "descrip         : b''\n",
      "aux_file        : b''\n",
      "qform_code      : scanner\n",
      "sform_code      : unknown\n",
      "quatern_b       : 0.0\n",
      "quatern_c       : 0.0\n",
      "quatern_d       : 1.0\n",
      "qoffset_x       : -0.0\n",
      "qoffset_y       : -0.0\n",
      "qoffset_z       : 0.0\n",
      "srow_x          : [0. 0. 0. 0.]\n",
      "srow_y          : [0. 0. 0. 0.]\n",
      "srow_z          : [0. 0. 0. 0.]\n",
      "intent_name     : b''\n",
      "magic           : b'n+1'\n"
     ]
    }
   ],
   "source": [
    "print(moving.header)"
   ]
  },
  {
   "cell_type": "code",
   "execution_count": 18,
   "metadata": {},
   "outputs": [],
   "source": [
    "\n",
    "output_shape = (256, 256, 60)\n",
    "output_spacing = (1, 1, 1)#(1.2, 1.2, 5)\n",
    "moving_cropped = nib.processing.conform(moving, out_shape=output_shape, voxel_size=output_spacing)\n",
    "fixed_cropped = nib.processing.conform(fixed, out_shape=output_shape, voxel_size=output_spacing)"
   ]
  },
  {
   "cell_type": "code",
   "execution_count": 19,
   "metadata": {},
   "outputs": [],
   "source": [
    "nib.save(moving_cropped, 'moving_cropped.nii.gz')\n",
    "nib.save(fixed_cropped, 'fixed_cropped.nii.gz')"
   ]
  },
  {
   "cell_type": "code",
   "execution_count": 20,
   "metadata": {},
   "outputs": [
    {
     "data": {
      "text/plain": [
       "(512, 512, 121)"
      ]
     },
     "execution_count": 20,
     "metadata": {},
     "output_type": "execute_result"
    }
   ],
   "source": [
    "moving.shape"
   ]
  },
  {
   "cell_type": "code",
   "execution_count": 37,
   "metadata": {},
   "outputs": [],
   "source": [
    "fixed_image = sitk.ReadImage(\"/home/vzalevskyi/uni/MAIA_Semester_3/mira/final_project/maia-mira/data/copd_scans/scans/case_004_insp.nii.gz\")\n",
    "moving_image = sitk.ReadImage('/home/vzalevskyi/uni/MAIA_Semester_3/mira/final_project/maia-mira/data/copd_scans/scans/case_004_exp.nii.gz')\n"
   ]
  },
  {
   "cell_type": "code",
   "execution_count": 38,
   "metadata": {},
   "outputs": [
    {
     "name": "stdout",
     "output_type": "stream",
     "text": [
      "Train image:\n",
      "origin: (0.0, 0.0, 0.0)\n",
      "size: (512, 512, 126)\n",
      "spacing: (0.5899999737739563, 0.5899999737739563, 2.5)\n",
      "direction: (1.0, 0.0, 0.0, 0.0, 1.0, 0.0, 0.0, 0.0, -1.0)\n",
      "pixel type: 16-bit signed integer\n",
      "number of pixel components: 1\n"
     ]
    }
   ],
   "source": [
    "print_img_info(fixed_image)"
   ]
  },
  {
   "cell_type": "code",
   "execution_count": 39,
   "metadata": {},
   "outputs": [],
   "source": [
    "def resample_volume(volume, interpolator = sitk.sitkLinear, new_spacing = [0.63, 0.63, 3]):\n",
    "    original_spacing = volume.GetSpacing()\n",
    "    original_size = volume.GetSize()\n",
    "    new_size = [int(round(osz*ospc/nspc)) for osz,ospc,nspc in zip(original_size, original_spacing, new_spacing)]\n",
    "    return sitk.Resample(volume, new_size, sitk.Transform(), interpolator,\n",
    "                         volume.GetOrigin(), new_spacing, volume.GetDirection(), 0,\n",
    "                         volume.GetPixelID())"
   ]
  },
  {
   "cell_type": "code",
   "execution_count": 49,
   "metadata": {},
   "outputs": [
    {
     "name": "stdout",
     "output_type": "stream",
     "text": [
      "Train image:\n",
      "origin: (0.0, 0.0, 0.0)\n",
      "size: (512, 512, 126)\n",
      "spacing: (0.5899999737739563, 0.5899999737739563, 2.5)\n",
      "direction: (1.0, 0.0, 0.0, 0.0, 1.0, 0.0, 0.0, 0.0, -1.0)\n",
      "pixel type: 16-bit signed integer\n",
      "number of pixel components: 1\n",
      "\n",
      "Train image:\n",
      "origin: (0.0, 0.0, 0.0)\n",
      "size: (512, 512, 96)\n",
      "spacing: (0.59, 0.59, 3.29)\n",
      "direction: (1.0, 0.0, 0.0, 0.0, 1.0, 0.0, 0.0, 0.0, -1.0)\n",
      "pixel type: 16-bit signed integer\n",
      "number of pixel components: 1\n"
     ]
    }
   ],
   "source": [
    "moving_iso = resample_volume(moving_image, new_spacing = [0.59, 0.59, 3.29])\n",
    "print_img_info(moving_image)\n",
    "print()\n",
    "print_img_info(moving_iso)\n",
    "\n",
    "sitk.WriteImage(moving_iso, 'moving_iso.nii.gz')"
   ]
  },
  {
   "cell_type": "code",
   "execution_count": null,
   "metadata": {},
   "outputs": [],
   "source": [
    "oldInd=[120, 150, 90]\n",
    "p=oldImage.TransformIndexToPhysicalPoint(oldInd)\n",
    "newInd=newImage.TransformPhysicalPointToIndex(p)\n",
    "print(newInd)"
   ]
  },
  {
   "cell_type": "code",
   "execution_count": 38,
   "metadata": {},
   "outputs": [
    {
     "data": {
      "text/plain": [
       "(200, 100, 100)"
      ]
     },
     "execution_count": 38,
     "metadata": {},
     "output_type": "execute_result"
    }
   ],
   "source": [
    "moving_image.TransformPhysicalPointToIndex(moving_image.TransformIndexToPhysicalPoint((200, 100, 100)))"
   ]
  },
  {
   "attachments": {},
   "cell_type": "markdown",
   "metadata": {},
   "source": [
    "TransformContinuousIndexToPhysicalPoint, TransformIndexToPhysicalPoint, TransformPhysicalPointToContinuousIndex, and TransformPhysicalPointToIndex."
   ]
  },
  {
   "cell_type": "code",
   "execution_count": null,
   "metadata": {},
   "outputs": [],
   "source": [
    "TransformContinuousIndexToPhysicalPoint, TransformIndexToPhysicalPoint, TransformPhysicalPointToContinuousIndex, and TransformPhysicalPointToIndex."
   ]
  }
 ],
 "metadata": {
  "kernelspec": {
   "display_name": "mira",
   "language": "python",
   "name": "python3"
  },
  "language_info": {
   "codemirror_mode": {
    "name": "ipython",
    "version": 3
   },
   "file_extension": ".py",
   "mimetype": "text/x-python",
   "name": "python",
   "nbconvert_exporter": "python",
   "pygments_lexer": "ipython3",
   "version": "3.10.6"
  },
  "orig_nbformat": 4,
  "vscode": {
   "interpreter": {
    "hash": "dfa1f8d0d5980e24ef9bd15e7ca06e87e1eaa1d9d9d8cec73b35787b03186508"
   }
  }
 },
 "nbformat": 4,
 "nbformat_minor": 2
}
