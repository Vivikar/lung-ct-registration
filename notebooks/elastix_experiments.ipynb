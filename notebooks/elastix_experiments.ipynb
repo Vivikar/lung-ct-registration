{
 "cells": [
  {
   "cell_type": "code",
   "execution_count": 1,
   "metadata": {},
   "outputs": [],
   "source": [
    "import os\n",
    "import sys; sys.path.insert(0, os.path.abspath(\"../\"))\n",
    "\n",
    "from pathlib import Path\n",
    "import numpy as np\n",
    "import pandas as pd\n",
    "from tqdm import tqdm\n",
    "import SimpleITK as sitk\n",
    "from lungmask import mask\n",
    "import seaborn as sns\n",
    "import matplotlib.pyplot as plt\n",
    "import cv2\n",
    "import numba\n",
    "from general_utils.utils import plot3, parse_points_reg, compute_TRE, convert_nda_to_itk, convert_itk_to_nda, register_image_w_mask, register_image_external, normalize_copd_to_HU\n",
    "from general_utils.utils import save_pts, save_pts_itk, transform_points\n",
    "import torch\n",
    "from skimage.exposure import rescale_intensity, equalize_hist, equalize_adapthist\n",
    "\n",
    "sitk.ProcessObject.SetGlobalWarningDisplay(False)\n",
    "sitk.ProcessObject.SetGlobalDefaultDebug(False)\n",
    "\n",
    "this_path = Path().resolve().parent"
   ]
  },
  {
   "cell_type": "code",
   "execution_count": 2,
   "metadata": {},
   "outputs": [],
   "source": [
    "# define train path\n",
    "# make sure you have created the results and paramMaps directories. In paramMaps folder, save the desired external parameter fiiles (e.g. params0011)\n",
    "\n",
    "kp_path = this_path/'data/copd/keypoints'\n",
    "scans_path = this_path/'data/copd/scans/'\n",
    "lung_masks_path = this_path/'data/copd/lungMasks/'\n",
    "results_path = this_path/'data/copd/results/'\n",
    "paramMaps_path = this_path/'data/copd/paramMaps/'"
   ]
  },
  {
   "attachments": {},
   "cell_type": "markdown",
   "metadata": {},
   "source": [
    "****Goal****\n",
    "\n",
    "\n",
    "In the test, given INHALE (image and landmarks), predict EXHALE landmarks\n",
    "\n",
    "**Originally**\n",
    "\n",
    "INHALE -> Moving\n",
    "\n",
    "Exhale -> Fixed\n",
    "\n",
    "**Change order, for correct points transformation**\n",
    "\n",
    "INHALE -> Fixed\n",
    "\n",
    "Exhale -> Moving"
   ]
  },
  {
   "cell_type": "code",
   "execution_count": 4,
   "metadata": {},
   "outputs": [
    {
     "name": "stderr",
     "output_type": "stream",
     "text": [
      " 25%|██▌       | 1/4 [07:51<23:34, 471.44s/it]"
     ]
    },
    {
     "name": "stdout",
     "output_type": "stream",
     "text": [
      "Baseline TRE: (26.5212958095204, 11.498190061390533)\n",
      "Registration (final) TRE: (3.0378340757483633, 4.602693024022892)\n"
     ]
    },
    {
     "name": "stderr",
     "output_type": "stream",
     "text": [
      " 50%|█████     | 2/4 [13:20<12:55, 387.64s/it]"
     ]
    },
    {
     "name": "stdout",
     "output_type": "stream",
     "text": [
      "Baseline TRE: (21.93124759248582, 6.505994990605793)\n",
      "Registration (final) TRE: (3.189642546581437, 4.776846552766394)\n"
     ]
    },
    {
     "name": "stderr",
     "output_type": "stream",
     "text": [
      " 75%|███████▌  | 3/4 [20:10<06:37, 397.69s/it]"
     ]
    },
    {
     "name": "stdout",
     "output_type": "stream",
     "text": [
      "Baseline TRE: (12.62588335216309, 6.381867428751379)\n",
      "Registration (final) TRE: (1.1370457329310535, 1.0765540322289193)\n"
     ]
    },
    {
     "name": "stderr",
     "output_type": "stream",
     "text": [
      "100%|██████████| 4/4 [26:08<00:00, 392.16s/it]"
     ]
    },
    {
     "name": "stdout",
     "output_type": "stream",
     "text": [
      "Baseline TRE: (29.583559738904107, 12.92417092574431)\n",
      "Registration (final) TRE: (1.6686778254419494, 1.7203474553750309)\n"
     ]
    },
    {
     "name": "stderr",
     "output_type": "stream",
     "text": [
      "\n"
     ]
    }
   ],
   "source": [
    "# 3c - v2\n",
    "# to save csv with results\n",
    "exp_name = 'clahe_lm_bspline_p0049' \n",
    "\n",
    "# select which cases to run\n",
    "cases = ['001', '002', '003', '004']\n",
    "\n",
    "results = {}\n",
    "\n",
    "# either to save the transformed inhale points\n",
    "save_transformed_points = False\n",
    "save_final_moving_image = False\n",
    "\n",
    "for train_case in tqdm(cases, total=len(cases)):\n",
    "    \n",
    "    case_results = {}\n",
    "\n",
    "    # read images and masks\n",
    "    fixed_itk = sitk.ReadImage(str(scans_path/f'case_{train_case}_insp.nii.gz'))\n",
    "    fixed_lung_mask = sitk.ReadImage(str(lung_masks_path/f'case_{train_case}_insp.nii.gz'))\n",
    "\n",
    "    # read images and masks\n",
    "    fixed_itk = sitk.ReadImage(str(scans_path/f'case_{train_case}_insp.nii.gz'))\n",
    "    fixed_image = convert_itk_to_nda(fixed_itk)\n",
    "    fixed_image[fixed_image<0] = 0\n",
    "    fixed_image = fixed_image/np.max(fixed_image)\n",
    "    clahe_fixed = equalize_adapthist(fixed_image)\n",
    "    fixed_itk = convert_nda_to_itk(clahe_fixed, fixed_itk)\n",
    "\n",
    "    fixed_lung_mask = sitk.ReadImage(str(lung_masks_path/f'case_{train_case}_insp.nii.gz'))\n",
    "\n",
    "    moving_itk = sitk.ReadImage(str(scans_path/f'case_{train_case}_exp.nii.gz'))\n",
    "    moving_image = convert_itk_to_nda(moving_itk)\n",
    "    moving_image[moving_image<0] = 0\n",
    "    moving_image = moving_image/np.max(moving_image)\n",
    "    clahe_moving = equalize_adapthist(moving_image)\n",
    "    moving_itk = convert_nda_to_itk(clahe_moving, moving_itk)\n",
    "\n",
    "    moving_lung_mask = sitk.ReadImage(str(lung_masks_path/f'case_{train_case}_exp.nii.gz'))\n",
    "\n",
    "    # # read points\n",
    "    points_inhale = np.loadtxt(kp_path/f'case_{train_case}_insp.txt').astype(np.int16)\n",
    "    points_exhale = np.loadtxt(kp_path/f'case_{train_case}_exp.txt').astype(np.int16)\n",
    "\n",
    "    # read param 11\n",
    "    pm_affine = sitk.ReadParameterFile(str(paramMaps_path/'Parameters.Par0011.affine.txt'))\n",
    "    pm_bspline_1 = sitk.ReadParameterFile(str(paramMaps_path/'Parameters.Par0011.bspline1_s.txt'))\n",
    "    pm_bspline_2 = sitk.ReadParameterFile(str(paramMaps_path/'Parameters.Par0011.bspline2_s.txt'))\n",
    "    pm_bspline_49 = sitk.ReadParameterFile(str(paramMaps_path/'Par0049_stdT-advanced.txt'))\n",
    "\n",
    "    # composed transformation\n",
    "\n",
    "    moving_reg, mov_param = register_image_external(fixed_image=fixed_itk, fixed_mask=fixed_lung_mask, \n",
    "                                                    moving_image=moving_itk, moving_mask=moving_lung_mask, \n",
    "                                                    paramMaps=[pm_bspline_49], print_console=False)\n",
    "                                                    \n",
    "    moving_lm = register_image_w_mask(fixed_image=None, moving_image=moving_lung_mask, fixed_mask=None, moving_mask=None,\n",
    "                                            transformParameterMap=mov_param, interpolator='nn')[0]\n",
    "    \n",
    "    points_inhale_moved = transform_points(moving_itk=moving_itk, mov_param=mov_param, \n",
    "                                            fixed_points_path=kp_path/f\"case_{train_case}_insp.pts\",\n",
    "                                            output_dir=results_path/'affine/', train_case=train_case)\n",
    "\n",
    "    case_results['baseline'] = compute_TRE(points_exhale, points_inhale, voxel_spacing=moving_itk.GetSpacing())\n",
    "    case_results['bspline49'] = compute_TRE(points_exhale, points_inhale_moved, voxel_spacing=moving_itk.GetSpacing())\n",
    "        \n",
    "    print(f\"Baseline TRE: {case_results['baseline']}\")\n",
    "    print(f\"Registration (final) TRE: {case_results['bspline49']}\")\n",
    "    \n",
    "    # if save_transformed_points:\n",
    "    #     save_pts(points_inhale_moved_bs2, results_path/f'case_{train_case}_insp_moved.txt')\n",
    "    # if save_final_moving_image:\n",
    "    #     sitk.WriteImage(moving_reg_bs2, results_path/f'case_{train_case}_insp_moved.nii.gz')   \n",
    "    #     sitk.WriteImage(moving_lm_bs2, results_path/f'lm_case_{train_case}_insp_moved.nii.gz')\n",
    "     \n",
    "    results[train_case] = case_results\n",
    "\n",
    "pd.DataFrame(results).to_csv(results_path/f'{exp_name}.csv')"
   ]
  },
  {
   "cell_type": "code",
   "execution_count": 5,
   "metadata": {},
   "outputs": [
    {
     "name": "stderr",
     "output_type": "stream",
     "text": [
      " 25%|██▌       | 1/4 [03:40<11:00, 220.04s/it]"
     ]
    },
    {
     "name": "stdout",
     "output_type": "stream",
     "text": [
      "Baseline TRE: (26.5212958095204, 11.498190061390533)\n",
      "Registration (final) TRE: (7.414896862608816, 10.845450811567758)\n"
     ]
    },
    {
     "name": "stderr",
     "output_type": "stream",
     "text": [
      " 50%|█████     | 2/4 [07:11<07:09, 214.94s/it]"
     ]
    },
    {
     "name": "stdout",
     "output_type": "stream",
     "text": [
      "Baseline TRE: (21.93124759248582, 6.505994990605793)\n",
      "Registration (final) TRE: (3.749790446031328, 5.12335536840661)\n"
     ]
    },
    {
     "name": "stderr",
     "output_type": "stream",
     "text": [
      " 75%|███████▌  | 3/4 [11:00<03:41, 221.26s/it]"
     ]
    },
    {
     "name": "stdout",
     "output_type": "stream",
     "text": [
      "Baseline TRE: (12.62588335216309, 6.381867428751379)\n",
      "Registration (final) TRE: (1.238285842235741, 1.1477941544170276)\n"
     ]
    },
    {
     "name": "stderr",
     "output_type": "stream",
     "text": [
      "100%|██████████| 4/4 [14:30<00:00, 217.59s/it]"
     ]
    },
    {
     "name": "stdout",
     "output_type": "stream",
     "text": [
      "Baseline TRE: (29.583559738904107, 12.92417092574431)\n",
      "Registration (final) TRE: (28.09652172342388, 11.184796279744194)\n"
     ]
    },
    {
     "name": "stderr",
     "output_type": "stream",
     "text": [
      "\n"
     ]
    }
   ],
   "source": [
    "# 3c - v2\n",
    "# to save csv with results\n",
    "exp_name = 'clahe_lm_bspline_p0049_stddT2000itr' \n",
    "\n",
    "# select which cases to run\n",
    "cases = ['001', '002', '003', '004']\n",
    "\n",
    "results = {}\n",
    "\n",
    "# either to save the transformed inhale points\n",
    "save_transformed_points = False\n",
    "save_final_moving_image = False\n",
    "\n",
    "for train_case in tqdm(cases, total=len(cases)):\n",
    "    \n",
    "    case_results = {}\n",
    "\n",
    "    # read images and masks\n",
    "    fixed_itk = sitk.ReadImage(str(scans_path/f'case_{train_case}_insp.nii.gz'))\n",
    "    fixed_lung_mask = sitk.ReadImage(str(lung_masks_path/f'case_{train_case}_insp.nii.gz'))\n",
    "\n",
    "    # read images and masks\n",
    "    fixed_itk = sitk.ReadImage(str(scans_path/f'case_{train_case}_insp.nii.gz'))\n",
    "    fixed_image = convert_itk_to_nda(fixed_itk)\n",
    "    fixed_image[fixed_image<0] = 0\n",
    "    fixed_image = fixed_image/np.max(fixed_image)\n",
    "    clahe_fixed = equalize_adapthist(fixed_image)\n",
    "    fixed_itk = convert_nda_to_itk(clahe_fixed, fixed_itk)\n",
    "\n",
    "    fixed_lung_mask = sitk.ReadImage(str(lung_masks_path/f'case_{train_case}_insp.nii.gz'))\n",
    "\n",
    "    moving_itk = sitk.ReadImage(str(scans_path/f'case_{train_case}_exp.nii.gz'))\n",
    "    moving_image = convert_itk_to_nda(moving_itk)\n",
    "    moving_image[moving_image<0] = 0\n",
    "    moving_image = moving_image/np.max(moving_image)\n",
    "    clahe_moving = equalize_adapthist(moving_image)\n",
    "    moving_itk = convert_nda_to_itk(clahe_moving, moving_itk)\n",
    "\n",
    "    moving_lung_mask = sitk.ReadImage(str(lung_masks_path/f'case_{train_case}_exp.nii.gz'))\n",
    "\n",
    "    # # read points\n",
    "    points_inhale = np.loadtxt(kp_path/f'case_{train_case}_insp.txt').astype(np.int16)\n",
    "    points_exhale = np.loadtxt(kp_path/f'case_{train_case}_exp.txt').astype(np.int16)\n",
    "\n",
    "    # read param 11\n",
    "    pm_bspline_49_stdT2000 = sitk.ReadParameterFile(str(paramMaps_path/'Par0049_stdT2000itr.txt'))\n",
    "    pm_bspline_49 = sitk.ReadParameterFile(str(paramMaps_path/'Par0049_stdT-advanced.txt'))\n",
    "\n",
    "    # composed transformation\n",
    "\n",
    "    moving_reg, mov_param = register_image_external(fixed_image=fixed_itk, fixed_mask=fixed_lung_mask, \n",
    "                                                    moving_image=moving_itk, moving_mask=moving_lung_mask, \n",
    "                                                    paramMaps=[pm_bspline_49_stdT2000], print_console=False)\n",
    "                                                    \n",
    "    moving_lm = register_image_w_mask(fixed_image=None, moving_image=moving_lung_mask, fixed_mask=None, moving_mask=None,\n",
    "                                            transformParameterMap=mov_param, interpolator='nn')[0]\n",
    "    \n",
    "    points_inhale_moved = transform_points(moving_itk=moving_itk, mov_param=mov_param, \n",
    "                                            fixed_points_path=kp_path/f\"case_{train_case}_insp.pts\",\n",
    "                                            output_dir=results_path/'affine/', train_case=train_case)\n",
    "\n",
    "    case_results['baseline'] = compute_TRE(points_exhale, points_inhale, voxel_spacing=moving_itk.GetSpacing())\n",
    "    case_results['bspline49'] = compute_TRE(points_exhale, points_inhale_moved, voxel_spacing=moving_itk.GetSpacing())\n",
    "        \n",
    "    print(f\"Baseline TRE: {case_results['baseline']}\")\n",
    "    print(f\"Registration (final) TRE: {case_results['bspline49']}\")\n",
    "    \n",
    "    # if save_transformed_points:\n",
    "    #     save_pts(points_inhale_moved_bs2, results_path/f'case_{train_case}_insp_moved.txt')\n",
    "    # if save_final_moving_image:\n",
    "    #     sitk.WriteImage(moving_reg_bs2, results_path/f'case_{train_case}_insp_moved.nii.gz')   \n",
    "    #     sitk.WriteImage(moving_lm_bs2, results_path/f'lm_case_{train_case}_insp_moved.nii.gz')\n",
    "     \n",
    "    results[train_case] = case_results\n",
    "\n",
    "pd.DataFrame(results).to_csv(results_path/f'{exp_name}.csv')"
   ]
  },
  {
   "cell_type": "code",
   "execution_count": null,
   "metadata": {},
   "outputs": [],
   "source": []
  }
 ],
 "metadata": {
  "kernelspec": {
   "display_name": "mira",
   "language": "python",
   "name": "python3"
  },
  "language_info": {
   "codemirror_mode": {
    "name": "ipython",
    "version": 3
   },
   "file_extension": ".py",
   "mimetype": "text/x-python",
   "name": "python",
   "nbconvert_exporter": "python",
   "pygments_lexer": "ipython3",
   "version": "3.10.4"
  },
  "orig_nbformat": 4,
  "vscode": {
   "interpreter": {
    "hash": "c47dc2f310ac3e1ba2e1c381dd5a8178eca3e45b60c1e2cb14f37ea3ea06eb6b"
   }
  }
 },
 "nbformat": 4,
 "nbformat_minor": 2
}
