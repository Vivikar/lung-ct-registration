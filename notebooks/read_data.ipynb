{
 "cells": [
  {
   "cell_type": "code",
   "execution_count": 1,
   "metadata": {},
   "outputs": [],
   "source": [
    "import os\n",
    "import sys; sys.path.insert(0, os.path.abspath(\"../\"))\n",
    "from pathlib import Path\n",
    "import SimpleITK as sitk"
   ]
  },
  {
   "cell_type": "code",
   "execution_count": 10,
   "metadata": {},
   "outputs": [],
   "source": [
    "data_path = Path().resolve().parent/'data/'"
   ]
  },
  {
   "cell_type": "code",
   "execution_count": 24,
   "metadata": {},
   "outputs": [
    {
     "data": {
      "text/plain": [
       "True"
      ]
     },
     "execution_count": 24,
     "metadata": {},
     "output_type": "execute_result"
    }
   ],
   "source": [
    "scans_empire = data_path/'empire/scans/original'\n",
    "scans_empire_output = data_path/'empire/scans/'\n",
    "scans_empire.exists()\n",
    "scans_empire_output.exists()"
   ]
  },
  {
   "cell_type": "code",
   "execution_count": 32,
   "metadata": {},
   "outputs": [],
   "source": [
    "# empire\n",
    "for img_path in scans_empire.glob('*.mhd'):\n",
    "    img_itk = sitk.ReadImage(str(img_path))\n",
    "    img_no = str(img_path.name).split('_')[0]\n",
    "    type = str(img_path.name).split('_')[1].split('.')[0]\n",
    "    if type == 'Fixed':\n",
    "        sitk.WriteImage(img_itk, str(scans_empire_output/f'case_{img_no}_exp.nii.gz'))\n",
    "    if type == 'Moving':\n",
    "        sitk.WriteImage(img_itk, str(scans_empire_output/f'case_{img_no}_insp.nii.gz'))\n",
    "        "
   ]
  },
  {
   "cell_type": "code",
   "execution_count": 33,
   "metadata": {},
   "outputs": [
    {
     "name": "stdout",
     "output_type": "stream",
     "text": [
      "True True\n"
     ]
    }
   ],
   "source": [
    "scans_empire_lm = data_path/'empire/lungMasks/original'\n",
    "scans_empire_output_lm = data_path/'empire/lungMasks/'\n",
    "print(scans_empire_lm.exists(), scans_empire_output_lm.exists())"
   ]
  },
  {
   "cell_type": "code",
   "execution_count": 34,
   "metadata": {},
   "outputs": [],
   "source": [
    "# empire\n",
    "for img_path in scans_empire_lm.glob('*.mhd'):\n",
    "    \n",
    "    img_itk = sitk.ReadImage(str(img_path))\n",
    "    img_no = str(img_path.name).split('_')[0]\n",
    "    type = str(img_path.name).split('_')[1].split('.')[0]\n",
    "    if type == 'Fixed':\n",
    "        sitk.WriteImage(img_itk, str(scans_empire_output_lm/f'case_0{img_no}_exp.nii.gz'))\n",
    "    if type == 'Moving':\n",
    "        sitk.WriteImage(img_itk, str(scans_empire_output_lm/f'case_0{img_no}_insp.nii.gz'))\n",
    "        "
   ]
  },
  {
   "cell_type": "code",
   "execution_count": null,
   "metadata": {},
   "outputs": [],
   "source": []
  }
 ],
 "metadata": {
  "kernelspec": {
   "display_name": "Python 3.10.4 ('maia-mira')",
   "language": "python",
   "name": "python3"
  },
  "language_info": {
   "codemirror_mode": {
    "name": "ipython",
    "version": 3
   },
   "file_extension": ".py",
   "mimetype": "text/x-python",
   "name": "python",
   "nbconvert_exporter": "python",
   "pygments_lexer": "ipython3",
   "version": "3.10.4"
  },
  "orig_nbformat": 4,
  "vscode": {
   "interpreter": {
    "hash": "0bd79931d8542363bffaeabcf9eac7f7b5a40c3a8667ce196a33156e9aafd9e3"
   }
  }
 },
 "nbformat": 4,
 "nbformat_minor": 2
}
