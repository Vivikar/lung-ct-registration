{
 "cells": [
  {
   "cell_type": "code",
   "execution_count": 5,
   "metadata": {},
   "outputs": [],
   "source": [
    "import os\n",
    "import torch\n",
    "import pandas as pd\n",
    "from pathlib import Path\n",
    "from torchvision.io import read_image\n",
    "from torch.utils.data import Dataset, DataLoader\n",
    "from typing import List, Tuple, Dict"
   ]
  },
  {
   "cell_type": "code",
   "execution_count": 19,
   "metadata": {},
   "outputs": [],
   "source": [
    "# create a custom dataset class\n",
    "\n",
    "\n",
    "class LungDatasets(Dataset):\n",
    "    def __init__(self, sources, root_dir:Path,\n",
    "                 partitions: List[str] = ['train', 'validation'],\n",
    "                 transform=None):\n",
    "        self.sources = sources\n",
    "        self.root_dir = root_dir\n",
    "        self.partitions = partitions\n",
    "        self.transform = transform\n",
    "\n",
    "    def __len__(self):\n",
    "        total_images = 0\n",
    "        for source in self.sources:\n",
    "            # always 2 image in scans (inhale and exhale)\n",
    "            total_images += len(list((self.root_dir/f'{source}/scans').iterdir()))//2\n",
    "        return total_images\n",
    "    \n",
    "    def __getitem__(self, index):\n",
    "        img_path = os.path.join(self.root_dir, self.annotations.iloc[index, 0])\n",
    "        image = read_image(img_path)\n",
    "        y_label = torch.tensor(int(self.annotations.iloc[index, 1]))\n",
    "\n",
    "        if self.transform:\n",
    "            image = self.transform(image)\n",
    "\n",
    "        return (image, y_label)"
   ]
  },
  {
   "cell_type": "code",
   "execution_count": 20,
   "metadata": {},
   "outputs": [],
   "source": [
    "l2r = LungDatasets(sources=['learn2reg'], root_dir=Path('data'))"
   ]
  },
  {
   "cell_type": "code",
   "execution_count": 21,
   "metadata": {},
   "outputs": [
    {
     "data": {
      "text/plain": [
       "20"
      ]
     },
     "execution_count": 21,
     "metadata": {},
     "output_type": "execute_result"
    }
   ],
   "source": [
    "len(l2r)"
   ]
  },
  {
   "cell_type": "code",
   "execution_count": null,
   "metadata": {},
   "outputs": [],
   "source": []
  }
 ],
 "metadata": {
  "kernelspec": {
   "display_name": "Python 3.10.6 ('mira')",
   "language": "python",
   "name": "python3"
  },
  "language_info": {
   "codemirror_mode": {
    "name": "ipython",
    "version": 3
   },
   "file_extension": ".py",
   "mimetype": "text/x-python",
   "name": "python",
   "nbconvert_exporter": "python",
   "pygments_lexer": "ipython3",
   "version": "3.10.6"
  },
  "orig_nbformat": 4,
  "vscode": {
   "interpreter": {
    "hash": "dfa1f8d0d5980e24ef9bd15e7ca06e87e1eaa1d9d9d8cec73b35787b03186508"
   }
  }
 },
 "nbformat": 4,
 "nbformat_minor": 2
}
